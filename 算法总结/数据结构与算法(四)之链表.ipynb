{
 "cells": [
  {
   "cell_type": "markdown",
   "id": "2b89c084",
   "metadata": {},
   "source": [
    "# 数据结构与算法(四)"
   ]
  },
  {
   "cell_type": "markdown",
   "id": "996ce6d4",
   "metadata": {},
   "source": [
    "## 链表"
   ]
  },
  {
   "cell_type": "markdown",
   "id": "5601b964",
   "metadata": {},
   "source": [
    "### 链表类"
   ]
  },
  {
   "cell_type": "code",
   "execution_count": null,
   "id": "80b2aa35",
   "metadata": {},
   "outputs": [],
   "source": [
    "class ListNode:\n",
    "    def __init__(self,val):\n",
    "        self.val = val\n",
    "        self.next = None"
   ]
  },
  {
   "cell_type": "markdown",
   "id": "81f12b0a",
   "metadata": {},
   "source": [
    "### 链表题"
   ]
  },
  {
   "cell_type": "markdown",
   "id": "ce314b9c",
   "metadata": {},
   "source": [
    "#### 反转链表"
   ]
  },
  {
   "cell_type": "code",
   "execution_count": null,
   "id": "d0644f5f",
   "metadata": {},
   "outputs": [],
   "source": [
    "class Solution:\n",
    "    def reverseList(self, head: ListNode) -> ListNode:\n",
    "        if not head or not head.next:\n",
    "            return head\n",
    "        temp,p,q = None,head,head.next\n",
    "        while q:\n",
    "            p.next = temp\n",
    "            temp = p\n",
    "            p = q\n",
    "            q = q.next\n",
    "        p.next = temp\n",
    "        return p"
   ]
  },
  {
   "cell_type": "markdown",
   "id": "e354e477",
   "metadata": {},
   "source": [
    "#### 删除倒数第k个节点"
   ]
  },
  {
   "cell_type": "code",
   "execution_count": null,
   "id": "fb33a601",
   "metadata": {},
   "outputs": [],
   "source": [
    "# 考虑特殊情况，即只有一个节点，且删除节点本身\n",
    "class Solution:\n",
    "    def removeNthFromEnd(self, head: ListNode, n: int) -> ListNode:\n",
    "        temp = ListNode(0)\n",
    "        temp.next = head\n",
    "        fast,slow = temp,temp\n",
    "        for i in range(n):\n",
    "            fast = fast.next\n",
    "        while fast.next:\n",
    "            fast = fast.next\n",
    "            slow = slow.next\n",
    "        slow.next = slow.next.next\n",
    "        return temp.next"
   ]
  },
  {
   "cell_type": "markdown",
   "id": "32081345",
   "metadata": {},
   "source": [
    "#### 两个链表第一个公共节点"
   ]
  },
  {
   "cell_type": "code",
   "execution_count": null,
   "id": "8d469bb9",
   "metadata": {},
   "outputs": [],
   "source": [
    "# 考虑两个链表一样长\n",
    "class Solution:\n",
    "    def FindFirstCommonNode(self , pHead1 , pHead2 ):\n",
    "        p = pHead1\n",
    "        q = pHead2\n",
    "        while p and q:\n",
    "            p = p.next\n",
    "            q = q.next\n",
    "        if p and not q:\n",
    "            q = pHead1\n",
    "            while p:\n",
    "                p = p.next\n",
    "                q = q.next\n",
    "            p = pHead2\n",
    "            while p != q:\n",
    "                p = p.next\n",
    "                q = q.next\n",
    "        if q and not p:\n",
    "            p = pHead2\n",
    "            while q:\n",
    "                q = q.next\n",
    "                p = p.next\n",
    "            q = pHead1\n",
    "            while p != q:\n",
    "                p = p.next\n",
    "                q = q.next\n",
    "        if not p and not q:\n",
    "            p = pHead2\n",
    "            q = pHead1\n",
    "            while p != q:\n",
    "                p = p.next\n",
    "                q = q.next\n",
    "        return p"
   ]
  },
  {
   "cell_type": "markdown",
   "id": "b10ffe76",
   "metadata": {},
   "source": [
    "#### 环形链表及链表入口"
   ]
  },
  {
   "cell_type": "code",
   "execution_count": null,
   "id": "5df6d383",
   "metadata": {},
   "outputs": [],
   "source": [
    "class Solution:\n",
    "    def detectCycle(self , head ):\n",
    "        # write code here\n",
    "        slow = head\n",
    "        fast = head\n",
    "        flag = False\n",
    "        while fast and fast.next:\n",
    "            slow = slow.next\n",
    "            fast = fast.next.next\n",
    "            if slow == fast: # 后判断\n",
    "                flag = True\n",
    "                break\n",
    "        if flag:\n",
    "            # 从相遇点到入口点再加上(n-1)圈为头节点到入口点的距离。\n",
    "            while head != slow: \n",
    "                head = head.next\n",
    "                slow = slow.next\n",
    "            return slow\n",
    "        else:\n",
    "            return None"
   ]
  },
  {
   "cell_type": "markdown",
   "id": "bbb540eb",
   "metadata": {},
   "source": [
    "#### 合并k个有序链表"
   ]
  },
  {
   "cell_type": "code",
   "execution_count": null,
   "id": "e2a37d88",
   "metadata": {},
   "outputs": [],
   "source": [
    "class Solution:\n",
    "    def mergeKLists(self , lists ):\n",
    "        # write code here\n",
    "        import heapq\n",
    "        heap = []\n",
    "        for i in range(len(lists)):\n",
    "            if lists[i]:\n",
    "                heapq.heappush(heap,(lists[i].val,i))\n",
    "                lists[i] = lists[i].next\n",
    "        head = ListNode(0)\n",
    "        temp = head\n",
    "        while heap:\n",
    "            value,i = heapq.heappop(heap)\n",
    "            temp.next = ListNode(value)\n",
    "            temp = temp.next\n",
    "            if lists[i]:\n",
    "                heapq.heappush(heap,(lists[i].val,i))\n",
    "                lists[i] = lists[i].next\n",
    "        return head.next"
   ]
  },
  {
   "cell_type": "markdown",
   "id": "19654c85",
   "metadata": {},
   "source": [
    "#### 单链表排序"
   ]
  },
  {
   "cell_type": "code",
   "execution_count": null,
   "id": "1e85b581",
   "metadata": {},
   "outputs": [],
   "source": [
    "# Definition for singly-linked list.\n",
    "# class ListNode:\n",
    "#     def __init__(self, val=0, next=None):\n",
    "#         self.val = val\n",
    "#         self.next = next\n",
    "# 快速排序\n",
    "class Solution:\n",
    "    def sortList(self, head: ListNode) -> ListNode:\n",
    "        def find_base(left,right):\n",
    "            base = left.val\n",
    "            l = left\n",
    "            r = left.next\n",
    "            while r != right:\n",
    "                while r!=right and r.val > base:\n",
    "                    r = r.next\n",
    "                if r != right:\n",
    "                    l = l.next # l指向最后一个比base值小的节点\n",
    "                    l.val,r.val = r.val,l.val\n",
    "                    r = r.next\n",
    "            l.val,left.val = left.val,l.val\n",
    "            return l\n",
    "\n",
    "        def quicksort(left,right):\n",
    "            if left and left != right and left.next != right: # left!=None,left !=right,left.next!=right\n",
    "                base = find_base(left,right)\n",
    "                quicksort(left,base)\n",
    "                quicksort(base.next,right)\n",
    "        \n",
    "        quicksort(head,None)\n",
    "        return head"
   ]
  },
  {
   "cell_type": "code",
   "execution_count": null,
   "id": "2ab7573c",
   "metadata": {},
   "outputs": [],
   "source": [
    "# 归并排序;链表递归\n",
    "class Solution:\n",
    "    def sortList(self, head: ListNode) -> ListNode:\n",
    "        if not head or not head.next: return head # termination.\n",
    "        # cut the LinkedList at the mid index.\n",
    "        slow, fast = head, head.next\n",
    "        while fast and fast.next:\n",
    "            fast, slow = fast.next.next, slow.next\n",
    "        mid, slow.next = slow.next, None # save and cut.\n",
    "        # recursive for cutting.\n",
    "        left, right = self.sortList(head), self.sortList(mid)\n",
    "        # merge `left` and `right` linked list and return it.\n",
    "        h = res = ListNode(0)\n",
    "        while left and right:\n",
    "            if left.val < right.val: h.next, left = left, left.next\n",
    "            else: h.next, right = right, right.next\n",
    "            h = h.next\n",
    "        h.next = left if left else right\n",
    "        return res.next"
   ]
  },
  {
   "cell_type": "markdown",
   "id": "f51e034e",
   "metadata": {},
   "source": [
    "#### [删除有序链表中重复的元素](https://www.nowcoder.com/practice/c087914fae584da886a0091e877f2c79?tpId=117&tqId=37730&rp=1&ru=%2Fta%2Fjob-code-high&qru=%2Fta%2Fjob-code-high%2Fquestion-ranking&tab=answerKey)"
   ]
  },
  {
   "cell_type": "code",
   "execution_count": null,
   "id": "93e7e5b6",
   "metadata": {},
   "outputs": [],
   "source": [
    "# class ListNode:\n",
    "#     def __init__(self, x):\n",
    "#         self.val = x\n",
    "#         self.next = None\n",
    "\n",
    "#\n",
    "# \n",
    "# @param head ListNode类 \n",
    "# @return ListNode类\n",
    "#\n",
    "class Solution:\n",
    "    def deleteDuplicates(self , head ):\n",
    "        # write code here\n",
    "        if not head or not head.next:\n",
    "            return head\n",
    "        left = head\n",
    "        pre = temp = ListNode(0)\n",
    "        right = head.next\n",
    "        while right:\n",
    "            if left.val == right.val:\n",
    "                left = right\n",
    "                right = right.next\n",
    "            else:\n",
    "                pre.next = left\n",
    "                pre = pre.next\n",
    "                left = right\n",
    "                right = right.next\n",
    "        pre.next = left\n",
    "        return temp.next"
   ]
  },
  {
   "cell_type": "markdown",
   "id": "ecec7922",
   "metadata": {},
   "source": [
    "#### [每k个一组翻转链表](https://www.nowcoder.com/practice/b49c3dc907814e9bbfa8437c251b028e?tpId=188&&tqId=38557&rp=1&ru=/activity/oj&qru=/ta/job-code-high-week/question-ranking)"
   ]
  },
  {
   "cell_type": "code",
   "execution_count": null,
   "id": "821b2cc9",
   "metadata": {},
   "outputs": [],
   "source": [
    "# class ListNode:\n",
    "#     def __init__(self, x):\n",
    "#         self.val = x\n",
    "#         self.next = None\n",
    "\n",
    "#\n",
    "# \n",
    "# @param head ListNode类 \n",
    "# @param k int整型 \n",
    "# @return ListNode类\n",
    "#\n",
    "class Solution:\n",
    "    def reverseList(self,head,tail):\n",
    "        if not head or not head.next:\n",
    "            return head\n",
    "        temp,p,q = None,head,head.next\n",
    "        while q != tail:\n",
    "            p.next = temp\n",
    "            temp = p\n",
    "            p = q\n",
    "            q = q.next\n",
    "        p.next = temp\n",
    "        return p,head\n",
    "    \n",
    "    def reverseKGroup(self , head , k ):\n",
    "        # write code here\n",
    "        if not head or not head.next:\n",
    "            return head\n",
    "        temp = 0\n",
    "        node = head\n",
    "        while node and temp < k:\n",
    "            temp += 1\n",
    "            node = node.next\n",
    "        if not node and temp < k:\n",
    "            return head\n",
    "        start,end = self.reverseList(head,node)\n",
    "        remain = self.reverseKGroup(node, k)\n",
    "        end.next = remain\n",
    "        return start"
   ]
  },
  {
   "cell_type": "markdown",
   "id": "f572cea3",
   "metadata": {},
   "source": [
    "#### 旋转链表"
   ]
  },
  {
   "cell_type": "code",
   "execution_count": null,
   "id": "406127fd",
   "metadata": {},
   "outputs": [],
   "source": [
    "# 给你一个链表的头节点 head ，旋转链表，将链表每个节点向右移动 k 个位置。\n",
    "# 递归\n",
    "# 旋转长度次数又回到原地\n",
    "\n",
    "# Definition for singly-linked list.\n",
    "# class ListNode:\n",
    "#     def __init__(self, val=0, next=None):\n",
    "#         self.val = val\n",
    "#         self.next = next\n",
    "class Solution:\n",
    "    def rotateRight(self, head: Optional[ListNode], k: int) -> Optional[ListNode]:\n",
    "        if not head or not head.next or not k:\n",
    "            return head\n",
    "        count = 0\n",
    "        q = head\n",
    "        while q:\n",
    "            count += 1\n",
    "            q = q.next\n",
    "        k = k % count\n",
    "        self.temp = head.val\n",
    "        p = head\n",
    "        def rotate(p):\n",
    "            if not p.next:\n",
    "                self.temp = p.val\n",
    "                return \n",
    "            rotate(p.next)\n",
    "            if p.next:\n",
    "                p.next.val = p.val\n",
    "        while k > 0:\n",
    "            rotate(p)\n",
    "            head.val = self.temp\n",
    "            k -= 1\n",
    "            p = head\n",
    "        return head\n",
    "\n",
    "# 双指针\n",
    "class Solution:\n",
    "    def rotateRight(self, head: ListNode, k: int) -> ListNode:\n",
    "        if not head or not head.next or not k: return head\n",
    "        temp,count = head,0\n",
    "        while temp:\n",
    "            count += 1\n",
    "            temp = temp.next\n",
    "        k = k % count\n",
    "        if k == 0:\n",
    "            return head\n",
    "        fast = slow = head\n",
    "        for i in range(k):\n",
    "            fast = fast.next\n",
    "        while fast.next:\n",
    "            slow = slow.next\n",
    "            fast = fast.next\n",
    "        newhead = slow.next\n",
    "        slow.next = None\n",
    "        fast.next = head\n",
    "        return newhead"
   ]
  }
 ],
 "metadata": {
  "kernelspec": {
   "display_name": "Python 3",
   "language": "python",
   "name": "python3"
  },
  "language_info": {
   "codemirror_mode": {
    "name": "ipython",
    "version": 3
   },
   "file_extension": ".py",
   "mimetype": "text/x-python",
   "name": "python",
   "nbconvert_exporter": "python",
   "pygments_lexer": "ipython3",
   "version": "3.8.8"
  },
  "toc": {
   "base_numbering": 1,
   "nav_menu": {},
   "number_sections": true,
   "sideBar": true,
   "skip_h1_title": false,
   "title_cell": "Table of Contents",
   "title_sidebar": "Contents",
   "toc_cell": false,
   "toc_position": {},
   "toc_section_display": true,
   "toc_window_display": true
  }
 },
 "nbformat": 4,
 "nbformat_minor": 5
}
