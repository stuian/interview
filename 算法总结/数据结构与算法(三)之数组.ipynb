{
 "cells": [
  {
   "cell_type": "markdown",
   "id": "e8f51d58",
   "metadata": {},
   "source": [
    "# 数据结构与算法(三)"
   ]
  },
  {
   "cell_type": "markdown",
   "id": "4a8a437b",
   "metadata": {},
   "source": [
    "## 数组"
   ]
  },
  {
   "cell_type": "markdown",
   "id": "8e759cc2",
   "metadata": {},
   "source": [
    "有连续存储空间，查询效率很高，插入和删除的效率较低。"
   ]
  },
  {
   "cell_type": "markdown",
   "id": "9984e3d8",
   "metadata": {},
   "source": [
    "### python中数组类型的数据结构"
   ]
  },
  {
   "cell_type": "code",
   "execution_count": 1,
   "id": "82db7fbf",
   "metadata": {},
   "outputs": [],
   "source": [
    "l = [1,2,3]"
   ]
  },
  {
   "cell_type": "markdown",
   "id": "d5f83ec1",
   "metadata": {},
   "source": [
    "### c++中数组类型的数据结构"
   ]
  },
  {
   "cell_type": "code",
   "execution_count": null,
   "id": "d7f19357",
   "metadata": {},
   "outputs": [],
   "source": [
    "v = vector<int>(10,0)"
   ]
  },
  {
   "cell_type": "markdown",
   "id": "ce23eb5f",
   "metadata": {},
   "source": [
    "## 应用"
   ]
  },
  {
   "cell_type": "markdown",
   "id": "673a214f",
   "metadata": {},
   "source": [
    "###  合并两个有序数组A,B到A中"
   ]
  },
  {
   "cell_type": "code",
   "execution_count": 2,
   "id": "62f03327",
   "metadata": {},
   "outputs": [],
   "source": [
    "# 前提是数组A容量够大\n",
    "class Solution:\n",
    "    def merge(self , A, m, B, n):\n",
    "        # write code here\n",
    "        k = m+n-1\n",
    "        i = m-1\n",
    "        j = n-1\n",
    "        while i>=0 and j>=0:\n",
    "            if A[i]>B[j]:\n",
    "                A[k] = A[i]\n",
    "                k -= 1\n",
    "                i -= 1\n",
    "            else:\n",
    "                A[k] = B[j]\n",
    "                k -= 1\n",
    "                j -= 1\n",
    "        while i>=0:\n",
    "            A[k] = A[i]\n",
    "            k -= 1\n",
    "            i -= 1\n",
    "        while j>=0:\n",
    "            A[k] = B[j]\n",
    "            k -= 1\n",
    "            j -= 1"
   ]
  },
  {
   "cell_type": "markdown",
   "id": "7f65effa",
   "metadata": {},
   "source": [
    "### 数组中三数相加为0的元素"
   ]
  },
  {
   "cell_type": "code",
   "execution_count": null,
   "id": "efc3df5a",
   "metadata": {},
   "outputs": [],
   "source": [
    "class Solution:\n",
    "    def threeSum(self , num ):\n",
    "        num.sort()\n",
    "        result = []\n",
    "        for i in range(len(num)):\n",
    "            if i>0 and num[i] == num[i-1]:\n",
    "                continue\n",
    "            if num[i]>0:\n",
    "                break\n",
    "            l = i+1\n",
    "            r = len(num)-1\n",
    "            while l < r:\n",
    "                if num[l]+num[r]+num[i] == 0:\n",
    "                    result.append([num[i],num[l],num[r]])\n",
    "                    l = l+1\n",
    "                    r = r-1\n",
    "                    while l < r and num[l] == num[l-1] and num[r] == num[r+1]:\n",
    "                        l += 1\n",
    "                        r -= 1\n",
    "                elif num[l]+num[r]+num[i] < 0:\n",
    "                    l += 1\n",
    "                else:\n",
    "                    r -= 1\n",
    "        return result"
   ]
  },
  {
   "cell_type": "markdown",
   "id": "3944cc31",
   "metadata": {},
   "source": [
    "### [数组中的逆序对](https://www.nowcoder.com/practice/96bd6684e04a44eb80e6a68efc0ec6c5?tpId=188&tqId=38331&rp=1&ru=%2Factivity%2Foj&qru=%2Fta%2Fjob-code-high-week%2Fquestion-ranking&tab=answerKey)"
   ]
  },
  {
   "cell_type": "code",
   "execution_count": null,
   "id": "2b3c27fa",
   "metadata": {},
   "outputs": [],
   "source": [
    "# 归并的思想\n",
    "class Solution:\n",
    "    def InversePairs(self, data):\n",
    "        # write code here\n",
    "        length = len(data)\n",
    "        if length<2:\n",
    "            return 0\n",
    "        self.p = 0\n",
    "        def mergesort(data):\n",
    "            if len(data)==1:\n",
    "                return data\n",
    "            mid = len(data)//2\n",
    "            return merge(mergesort(data[:mid]),mergesort(data[mid:]))\n",
    "        def merge(a,b):\n",
    "            result = []\n",
    "            while len(a)>0 and len(b)>0:\n",
    "                if a[0]<=b[0]:\n",
    "                    result.append(a.pop(0))\n",
    "                else:\n",
    "                    result.append(b.pop(0))\n",
    "                    self.p += len(a)\n",
    "            while len(a)>0:\n",
    "                result.append(a.pop(0))\n",
    "            while len(b)>0:\n",
    "                result.append(b.pop(0))\n",
    "            return result\n",
    "        temp = mergesort(data)\n",
    "        return self.p%1000000007"
   ]
  },
  {
   "cell_type": "markdown",
   "id": "83126f3d",
   "metadata": {},
   "source": [
    "### [子数组最大乘积](https://www.nowcoder.com/practice/9c158345c867466293fc413cff570356?tpId=188&tqId=38334&rp=1&ru=%2Factivity%2Foj&qru=%2Fta%2Fjob-code-high-week%2Fquestion-ranking&tab=answerKey)"
   ]
  },
  {
   "cell_type": "code",
   "execution_count": 3,
   "id": "cb34a45c",
   "metadata": {},
   "outputs": [],
   "source": [
    "# @param arr double浮点型一维数组 \n",
    "# @return double浮点型\n",
    "#\n",
    "class Solution:\n",
    "    def maxProduct(self , arr ):\n",
    "        # write code here\n",
    "        dp_min = [arr[0] for i in range(len(arr))]\n",
    "        dp_max = [arr[0] for i in range(len(arr))]\n",
    "        for i in range(1,len(arr)):\n",
    "            if arr[i] > 0:\n",
    "                dp_max[i] = max(arr[i],dp_max[i-1]*arr[i])\n",
    "                dp_min[i] = min(arr[i],dp_min[i-1]*arr[i])\n",
    "            else:\n",
    "                dp_max[i] = max(arr[i],dp_min[i-1]*arr[i])\n",
    "                dp_min[i] = min(arr[i],dp_max[i-1]*arr[i])\n",
    "        return max(dp_max)"
   ]
  },
  {
   "cell_type": "markdown",
   "id": "bf100ee3",
   "metadata": {},
   "source": [
    "### 数组中重复两次的元素"
   ]
  },
  {
   "cell_type": "code",
   "execution_count": null,
   "id": "017f08b2",
   "metadata": {},
   "outputs": [],
   "source": [
    "# 对于数组大小为n的数组，其中元素取值范围为0-n-1\n",
    "def twice_num(a):\n",
    "    n = len(a)\n",
    "    for i in range(n): \n",
    "        if a[a[i]] > 0:\n",
    "            a[a[i]] *= -1\n",
    "        else:\n",
    "            print(a[i]) "
   ]
  },
  {
   "cell_type": "markdown",
   "id": "7de58af9",
   "metadata": {},
   "source": [
    "### 数组螺旋打印"
   ]
  },
  {
   "cell_type": "code",
   "execution_count": 4,
   "id": "0f274e58",
   "metadata": {},
   "outputs": [],
   "source": [
    "# 螺旋打印\n",
    "#\n",
    "# \n",
    "# @param matrix int整型二维数组 \n",
    "# @return int整型一维数组\n",
    "#\n",
    "class Solution:\n",
    "    def spiralOrder(self , matrix ):\n",
    "        # write code here\n",
    "        if matrix == [] or matrix == [[]]:\n",
    "            return []\n",
    "        result = []\n",
    "        m = len(matrix)\n",
    "        n = len(matrix[0])\n",
    "        left = top = 0\n",
    "        right = n-1\n",
    "        bottom = m-1\n",
    "        while left<right and top<bottom:\n",
    "            for i in range(left,right):\n",
    "                result.append(matrix[top][i])\n",
    "            for j in range(top,bottom):\n",
    "                result.append(matrix[j][right])\n",
    "            for i in range(right,left,-1):\n",
    "                result.append(matrix[bottom][i])\n",
    "            for j in range(bottom,top,-1):\n",
    "                result.append(matrix[j][left])\n",
    "            left += 1\n",
    "            top += 1\n",
    "            right -= 1\n",
    "            bottom -= 1\n",
    "        if left == right:\n",
    "            for i in range(top,bottom+1):\n",
    "                result.append(matrix[i][left])\n",
    "        elif bottom==top:\n",
    "            for j in range(left,right+1):\n",
    "                result.append(matrix[top][j])\n",
    "        return result"
   ]
  },
  {
   "cell_type": "markdown",
   "id": "6056c158",
   "metadata": {},
   "source": [
    "### [哈希之字母异位词分组](https://leetcode-cn.com/problems/group-anagrams/) "
   ]
  },
  {
   "cell_type": "code",
   "execution_count": null,
   "id": "9f95c7ff",
   "metadata": {},
   "outputs": [],
   "source": [
    "import collections\n",
    "class Solution:\n",
    "    def groupAnagrams(self, strs):\n",
    "        mp = collections.defaultdict(list)\n",
    "        for st in strs:\n",
    "            key = \"\".join(sorted(st)) # 字母也可以排序\n",
    "            mp[key].append(st) # 没有key的时候自动创建空表[]\n",
    "\n",
    "        return list(mp.values())\n",
    "\n",
    "strs = [\"eat\", \"tea\", \"tan\", \"ate\", \"nat\", \"bat\"]\n",
    "test = Solution()\n",
    "print(test.groupAnagrams(strs))\n",
    "\n"
   ]
  },
  {
   "cell_type": "markdown",
   "id": "48da0aa2",
   "metadata": {},
   "source": [
    "### [接雨水](https://www.nowcoder.com/practice/31c1aed01b394f0b8b7734de0324e00f?tpId=188&&tqId=38549&rp=1&ru=/activity/oj&qru=/ta/job-code-high-week/question-ranking)"
   ]
  },
  {
   "cell_type": "code",
   "execution_count": null,
   "id": "6e353d58",
   "metadata": {},
   "outputs": [],
   "source": [
    "#\n",
    "# max water\n",
    "# @param arr int整型一维数组 the array\n",
    "# @return long长整型\n",
    "#\n",
    "class Solution:\n",
    "    def maxWater(self , arr ):\n",
    "        # write code here\n",
    "        if len(arr)<=2:\n",
    "            return 0\n",
    "        container = 0\n",
    "        left = i = 0\n",
    "        right = j = len(arr)-1\n",
    "        while i < j:\n",
    "            if arr[left] < arr[right]:\n",
    "                i += 1\n",
    "                if arr[i] < arr[left]:\n",
    "                    container += arr[left]-arr[i]\n",
    "                else:\n",
    "                    left = i\n",
    "            else:\n",
    "                j -= 1\n",
    "                if arr[j]<arr[right]:\n",
    "                    container += arr[right]-arr[j]\n",
    "                else:\n",
    "                    right = j\n",
    "        return container"
   ]
  }
 ],
 "metadata": {
  "kernelspec": {
   "display_name": "Python 3",
   "language": "python",
   "name": "python3"
  },
  "language_info": {
   "codemirror_mode": {
    "name": "ipython",
    "version": 3
   },
   "file_extension": ".py",
   "mimetype": "text/x-python",
   "name": "python",
   "nbconvert_exporter": "python",
   "pygments_lexer": "ipython3",
   "version": "3.8.8"
  },
  "toc": {
   "base_numbering": 1,
   "nav_menu": {},
   "number_sections": true,
   "sideBar": true,
   "skip_h1_title": false,
   "title_cell": "Table of Contents",
   "title_sidebar": "Contents",
   "toc_cell": false,
   "toc_position": {},
   "toc_section_display": true,
   "toc_window_display": true
  }
 },
 "nbformat": 4,
 "nbformat_minor": 5
}
