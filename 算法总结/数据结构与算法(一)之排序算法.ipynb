{
 "cells": [
  {
   "cell_type": "markdown",
   "id": "c96480b9",
   "metadata": {},
   "source": [
    "# 数据结构与算法"
   ]
  },
  {
   "cell_type": "markdown",
   "id": "9ac6357f",
   "metadata": {},
   "source": [
    "## 自定义输入格式"
   ]
  },
  {
   "cell_type": "code",
   "execution_count": 11,
   "id": "21e95cfb",
   "metadata": {},
   "outputs": [
    {
     "name": "stdout",
     "output_type": "stream",
     "text": [
      "[1,2,3]\n",
      "[1, 2, 3]\n",
      "e\n"
     ]
    }
   ],
   "source": [
    "while True:\n",
    "    try:\n",
    "        x = input()\n",
    "        x = x.replace('[','').replace(']','')\n",
    "        x = list(x.split(','))\n",
    "        x = list(map(int,x)) # 都是字符，整形需要手动转\n",
    "        print(x)\n",
    "    except:\n",
    "        break"
   ]
  },
  {
   "cell_type": "markdown",
   "id": "665b7518",
   "metadata": {},
   "source": [
    "## [排序算法](https://blog.csdn.net/qq_41341757/article/details/114408446)"
   ]
  },
  {
   "cell_type": "markdown",
   "id": "7ac2630f",
   "metadata": {},
   "source": [
    "### python自带排序"
   ]
  },
  {
   "cell_type": "code",
   "execution_count": 14,
   "id": "45fccb7f",
   "metadata": {},
   "outputs": [
    {
     "name": "stdout",
     "output_type": "stream",
     "text": [
      "[1, 3, 4, 6, 7]\n",
      "[7, 6, 4, 3, 1]\n"
     ]
    }
   ],
   "source": [
    "a = [7,3,4,1,6]\n",
    "b = sorted(a)\n",
    "print(b)\n",
    "a.sort(reverse=True)\n",
    "print(a)"
   ]
  },
  {
   "cell_type": "code",
   "execution_count": 13,
   "id": "0bff86e5",
   "metadata": {},
   "outputs": [
    {
     "data": {
      "text/plain": [
       "[('1', 1), ('2', 3), ('4', 10), ('5', 15)]"
      ]
     },
     "execution_count": 13,
     "metadata": {},
     "output_type": "execute_result"
    }
   ],
   "source": [
    "d = {\"2\":5,\"1\":1,\"3\":3,\"5\":15,\"4\":10}\n",
    "sorted(d.items(),key=lambda x:x[0])"
   ]
  },
  {
   "cell_type": "markdown",
   "id": "4e2cc882",
   "metadata": {},
   "source": [
    "### 冒泡排序"
   ]
  },
  {
   "cell_type": "markdown",
   "id": "8af0e44e",
   "metadata": {},
   "source": [
    "从头遍历所有样本，进行两两比较，如果是从小到大排序，每次比较大的样本在前都要进行交换，最终将最大值放到最后；每次遍历将当前最大值放到最后，对剩下未排序样本进行重复的遍历比较操作，最终得到排序好的序列。"
   ]
  },
  {
   "cell_type": "code",
   "execution_count": 13,
   "id": "9e577c03",
   "metadata": {},
   "outputs": [
    {
     "name": "stdout",
     "output_type": "stream",
     "text": [
      "[1, 3, 4, 6, 7]\n"
     ]
    }
   ],
   "source": [
    "def bubbling_sort(a):\n",
    "    for i in range(len(a)-1,0,-1):\n",
    "        for j in range(1,i+1):\n",
    "            # 交换两个相邻的样本\n",
    "            if a[j] < a[j-1]:\n",
    "                a[j-1],a[j] = a[j],a[j-1]\n",
    "    \n",
    "if __name__ == \"__main__\":\n",
    "    a = [7,3,4,1,6]\n",
    "    bubbling_sort(a)\n",
    "    print(a)"
   ]
  },
  {
   "cell_type": "markdown",
   "id": "c25298e7",
   "metadata": {},
   "source": [
    "### 选择排序"
   ]
  },
  {
   "cell_type": "markdown",
   "id": "4bc24af9",
   "metadata": {},
   "source": [
    "如果是从小到大排序，每次选出最小的样本放到序列的最前面，然后在剩下的样本中选第二小的样本，放到前面，不断重复这个过程。"
   ]
  },
  {
   "cell_type": "code",
   "execution_count": 15,
   "id": "3f2487b1",
   "metadata": {
    "scrolled": true
   },
   "outputs": [
    {
     "name": "stdout",
     "output_type": "stream",
     "text": [
      "[1, 3, 4, 6, 7]\n"
     ]
    }
   ],
   "source": [
    "def select_sort(a):\n",
    "    for i in range(len(a)-1):\n",
    "        min_value = float(\"inf\")\n",
    "        index = -1\n",
    "        for j in range(i,len(a)):\n",
    "            if a[j]< min_value:\n",
    "                index = j\n",
    "                min_value = a[j]\n",
    "        a[i],a[index] = a[index],a[i]\n",
    "\n",
    "if __name__ == \"__main__\":\n",
    "    a = [7,3,4,1,6]\n",
    "    select_sort(a)\n",
    "    print(a)"
   ]
  },
  {
   "cell_type": "markdown",
   "id": "3719c0b8",
   "metadata": {},
   "source": [
    "### 插入排序"
   ]
  },
  {
   "cell_type": "markdown",
   "id": "c862a6a1",
   "metadata": {},
   "source": [
    "从头开始遍历，对于遍历的每个元素i，其前i-1个元素为有序，将其第i个元素插入到前i-1个元素中正确的位置。"
   ]
  },
  {
   "cell_type": "code",
   "execution_count": 16,
   "id": "0676c9bb",
   "metadata": {},
   "outputs": [
    {
     "name": "stdout",
     "output_type": "stream",
     "text": [
      "[1, 3, 4, 6, 7]\n"
     ]
    }
   ],
   "source": [
    "def insert_sort(a):\n",
    "    n = len(a)\n",
    "    for i in range(1,n):\n",
    "        for j in range(i,0,-1):\n",
    "            if a[j]<a[j-1]:\n",
    "                a[j-1],a[j] = a[j],a[j-1]\n",
    "\n",
    "if __name__ == \"__main__\":\n",
    "    a = [7,3,4,1,6]\n",
    "    insert_sort(a)\n",
    "    print(a)"
   ]
  },
  {
   "cell_type": "markdown",
   "id": "1c926372",
   "metadata": {},
   "source": [
    "### 希尔排序"
   ]
  },
  {
   "cell_type": "markdown",
   "id": "38c4e262",
   "metadata": {},
   "source": [
    "在插入排序的基础上做的一个升级。通过增量大小对序列分组，对每组分别进行插入排序，然后不断缩小增量。"
   ]
  },
  {
   "cell_type": "code",
   "execution_count": 19,
   "id": "48ce2952",
   "metadata": {},
   "outputs": [
    {
     "name": "stdout",
     "output_type": "stream",
     "text": [
      "[1, 3, 4, 6, 7]\n"
     ]
    }
   ],
   "source": [
    "def shell_sort(a):\n",
    "    n = len(a)\n",
    "    gap = n // 2\n",
    "    while gap >= 1:\n",
    "        for i in range(gap,n):\n",
    "            j = i\n",
    "            while j-gap>=0:\n",
    "                if a[j]<a[j-gap]:\n",
    "                    a[j-gap],a[j] = a[j],a[j-gap]\n",
    "                    j = j-gap\n",
    "                else:\n",
    "                    break # 之前的已经排好序，不要再往前比较\n",
    "        gap = gap // 2\n",
    "        \n",
    "if __name__ == \"__main__\":\n",
    "    a = [7,3,4,1,6]\n",
    "    shell_sort(a)\n",
    "    print(a)                "
   ]
  },
  {
   "cell_type": "markdown",
   "id": "383b40e4",
   "metadata": {},
   "source": [
    "### 快速排序"
   ]
  },
  {
   "cell_type": "markdown",
   "id": "5976e6fd",
   "metadata": {},
   "source": [
    "每次将一个基数放置到正确的位置，用两个指针left和right，分别从左边和右边进行遍历，将右边比基数小的值和左边比基数大的值进行交换，重复该过程，直到两个指针相遇，left指针位置即为基数应所处的位置。"
   ]
  },
  {
   "cell_type": "code",
   "execution_count": 23,
   "id": "58b28c00",
   "metadata": {},
   "outputs": [
    {
     "name": "stdout",
     "output_type": "stream",
     "text": [
      "[1, 3, 4, 6, 7]\n"
     ]
    }
   ],
   "source": [
    "def find_base(a,left,right):\n",
    "    base = a[left]\n",
    "    while left < right:\n",
    "        while left < right and a[right] > base:\n",
    "            right -= 1\n",
    "        if left < right:\n",
    "            a[left] = a[right]\n",
    "        while left < right and a[left] < base:\n",
    "            left += 1\n",
    "        if left < right:\n",
    "            a[right] = a[left]\n",
    "    a[left] = base\n",
    "    return left\n",
    "\n",
    "def quick_sort(a,left,right):\n",
    "    if left<right:\n",
    "        base = find_base(a,left,right)\n",
    "        quick_sort(a,left,base-1)\n",
    "        quick_sort(a,base+1,right)\n",
    "        \n",
    "if __name__ == \"__main__\":\n",
    "    a = [7,3,4,1,6]\n",
    "    quick_sort(a,0,len(a)-1)\n",
    "    print(a)  "
   ]
  },
  {
   "cell_type": "markdown",
   "id": "4e9e6099",
   "metadata": {},
   "source": [
    "### 归并排序"
   ]
  },
  {
   "cell_type": "markdown",
   "id": "b72b6406",
   "metadata": {},
   "source": [
    "不断的将两个有序序列进行合并的过程。"
   ]
  },
  {
   "cell_type": "code",
   "execution_count": 25,
   "id": "0481b7d4",
   "metadata": {},
   "outputs": [
    {
     "name": "stdout",
     "output_type": "stream",
     "text": [
      "[1, 3, 4, 6, 7]\n"
     ]
    }
   ],
   "source": [
    "def mergesort(a):\n",
    "    if len(a) == 1:\n",
    "        return a\n",
    "    mid = len(a)//2\n",
    "    return merge(mergesort(a[:mid]),mergesort(a[mid:]))\n",
    "\n",
    "def merge(left,right):\n",
    "    result = []\n",
    "    while len(left) and len(right):\n",
    "        if left[0] <= right[0]:\n",
    "            result.append(left.pop(0))\n",
    "        else:\n",
    "            result.append(right.pop(0))\n",
    "    while len(left):\n",
    "        result.append(left.pop(0))\n",
    "    while len(right):\n",
    "        result.append(right.pop(0))\n",
    "    return result\n",
    "\n",
    "if __name__ == \"__main__\":\n",
    "    a = [7,3,4,1,6]\n",
    "    b = mergesort(a)\n",
    "    print(b) "
   ]
  },
  {
   "cell_type": "markdown",
   "id": "9d37d3a3",
   "metadata": {},
   "source": [
    "### 堆排序"
   ]
  },
  {
   "cell_type": "markdown",
   "id": "49b3de10",
   "metadata": {},
   "source": [
    "首先建立最大堆或者最小堆，然后将堆的最小值或者最大值放置数组最后，重新调整剩下的元素为最大堆或者最小堆，重复上述过程。"
   ]
  },
  {
   "cell_type": "code",
   "execution_count": 27,
   "id": "1be39596",
   "metadata": {},
   "outputs": [
    {
     "name": "stdout",
     "output_type": "stream",
     "text": [
      "[1, 3, 4, 6, 7]\n"
     ]
    }
   ],
   "source": [
    "def heapfiy(a,i):\n",
    "    left = 2*i\n",
    "    right = 2*i+1\n",
    "    largest = i\n",
    "    if left < n and a[largest] < a[left]:\n",
    "        largest = left\n",
    "    if right < n and a[largest] < a[right]:\n",
    "        largest = right\n",
    "    if largest != i:\n",
    "        a[i],a[largest] = a[largest],a[i]\n",
    "        heapfiy(a,largest)\n",
    "\n",
    "def build_maxheap(a):\n",
    "    for i in range(n//2,-1,-1):\n",
    "        heapfiy(a,i)\n",
    "\n",
    "def heapsort(a):\n",
    "    global n\n",
    "    n = len(a)\n",
    "    # 建立最大堆，为了升序排序\n",
    "    build_maxheap(a)\n",
    "    for i in range(n-1,0,-1):\n",
    "        a[0],a[i] = a[i],a[0]\n",
    "        n = n - 1\n",
    "        heapfiy(a,0)\n",
    "        \n",
    "if __name__ == \"__main__\":\n",
    "    a = [7,3,4,1,6]\n",
    "    heapsort(a)\n",
    "    print(a) "
   ]
  },
  {
   "cell_type": "markdown",
   "id": "9a3d580d",
   "metadata": {},
   "source": [
    "## 应用"
   ]
  },
  {
   "cell_type": "markdown",
   "id": "954417cb",
   "metadata": {},
   "source": [
    "### 第k小（大）的元素"
   ]
  },
  {
   "cell_type": "markdown",
   "id": "a57b5e8e",
   "metadata": {},
   "source": [
    "- 第k小的元素即索引为k-1位置的元素，n为序列长度\n",
    "- 第k大的元素即索引为n-k位置的元素，n为序列长度"
   ]
  },
  {
   "cell_type": "code",
   "execution_count": 1,
   "id": "dc8d1b09",
   "metadata": {},
   "outputs": [
    {
     "name": "stdout",
     "output_type": "stream",
     "text": [
      "3\n"
     ]
    }
   ],
   "source": [
    "# 时间复杂度：O(n)\n",
    "def find_base(a,left,right):\n",
    "    base = a[left]\n",
    "    while left < right:\n",
    "        while left < right and a[right] >= base:\n",
    "            right -= 1\n",
    "        if left < right:\n",
    "            a[left] = a[right]\n",
    "        while left < right and a[left] <= base:\n",
    "            left += 1\n",
    "        if left < right:\n",
    "            a[right] = a[left]\n",
    "    a[left] = base\n",
    "    return left\n",
    "\n",
    "def quicksort(a,left,right,k):\n",
    "    if left <= right:    # 这些等于号不可以少，否则有些例子没有办法运行\n",
    "        base = find_base(a,left,right)\n",
    "        if k == base:\n",
    "            return a[base]\n",
    "        elif k<base:\n",
    "            return quicksort(a,left,base-1,k)\n",
    "        else:\n",
    "            return quicksort(a,base+1,right,k)\n",
    "\n",
    "def findKthElement(a,k):\n",
    "    n = len(a)\n",
    "    k = k-1\n",
    "    return quicksort(a,0,n-1,k)\n",
    "\n",
    "if __name__ == \"__main__\":\n",
    "    a = [7,3,4,1,6]\n",
    "    print(findKthElement(a,2))"
   ]
  },
  {
   "cell_type": "markdown",
   "id": "7e5ceb64",
   "metadata": {},
   "source": [
    "### 二分法（比较大小）"
   ]
  },
  {
   "cell_type": "markdown",
   "id": "c01dbac2",
   "metadata": {},
   "source": [
    "求根号n"
   ]
  },
  {
   "cell_type": "code",
   "execution_count": 9,
   "id": "db023fee",
   "metadata": {},
   "outputs": [
    {
     "name": "stdout",
     "output_type": "stream",
     "text": [
      "2.2360658645629883\n"
     ]
    }
   ],
   "source": [
    "import math \n",
    "eps = 0.00001\n",
    "def sqrt(n):\n",
    "    global eps\n",
    "    if n < 0:\n",
    "        return -1\n",
    "    low = 0\n",
    "    up = n\n",
    "    mid = (low+up)/2\n",
    "    while math.fabs(mid*mid-n)>eps:\n",
    "        if mid*mid < n:\n",
    "            low = mid\n",
    "        else:\n",
    "            up = mid\n",
    "        mid = (low+up)/2\n",
    "    return mid\n",
    "n = 5\n",
    "print(sqrt(n))"
   ]
  },
  {
   "cell_type": "code",
   "execution_count": 12,
   "id": "afa9ff11",
   "metadata": {},
   "outputs": [
    {
     "name": "stdout",
     "output_type": "stream",
     "text": [
      "2.2360679779158037\n"
     ]
    }
   ],
   "source": [
    "# 牛顿迭代法求根号n\n",
    "def sqrt(n):\n",
    "    temp = n/2\n",
    "    while math.fabs(temp*temp-n)>eps:\n",
    "        temp = (temp+n/temp)/2\n",
    "    return temp\n",
    "\n",
    "n = 5\n",
    "print(sqrt(n))"
   ]
  }
 ],
 "metadata": {
  "kernelspec": {
   "display_name": "Python 3",
   "language": "python",
   "name": "python3"
  },
  "language_info": {
   "codemirror_mode": {
    "name": "ipython",
    "version": 3
   },
   "file_extension": ".py",
   "mimetype": "text/x-python",
   "name": "python",
   "nbconvert_exporter": "python",
   "pygments_lexer": "ipython3",
   "version": "3.8.8"
  },
  "toc": {
   "base_numbering": 1,
   "nav_menu": {},
   "number_sections": true,
   "sideBar": true,
   "skip_h1_title": false,
   "title_cell": "Table of Contents",
   "title_sidebar": "Contents",
   "toc_cell": false,
   "toc_position": {},
   "toc_section_display": true,
   "toc_window_display": true
  }
 },
 "nbformat": 4,
 "nbformat_minor": 5
}
