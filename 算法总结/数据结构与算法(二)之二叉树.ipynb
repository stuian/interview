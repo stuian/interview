{
 "cells": [
  {
   "cell_type": "markdown",
   "id": "f51e056a",
   "metadata": {},
   "source": [
    "# 数据结构与算法（二）"
   ]
  },
  {
   "cell_type": "markdown",
   "id": "bbf6faf9",
   "metadata": {},
   "source": [
    "## 二叉树"
   ]
  },
  {
   "cell_type": "markdown",
   "id": "6b8b4607",
   "metadata": {},
   "source": [
    "### 树节点类"
   ]
  },
  {
   "cell_type": "code",
   "execution_count": 6,
   "id": "db43621f",
   "metadata": {},
   "outputs": [],
   "source": [
    "class Node:\n",
    "    def __init__(self,value):\n",
    "        self.value = value\n",
    "        self.left = None\n",
    "        self.right = None"
   ]
  },
  {
   "cell_type": "markdown",
   "id": "7720cc5a",
   "metadata": {},
   "source": [
    "### 基本框架"
   ]
  },
  {
   "cell_type": "code",
   "execution_count": 1,
   "id": "36a3dd8f",
   "metadata": {},
   "outputs": [],
   "source": [
    "def search(root):\n",
    "    if not root:\n",
    "        return \n",
    "    search(root.left)\n",
    "    search(root.right)"
   ]
  },
  {
   "cell_type": "markdown",
   "id": "465e3748",
   "metadata": {},
   "source": [
    "### 各种遍历 "
   ]
  },
  {
   "cell_type": "markdown",
   "id": "01541c60",
   "metadata": {},
   "source": [
    "#### 先序遍历"
   ]
  },
  {
   "cell_type": "code",
   "execution_count": 2,
   "id": "d9350519",
   "metadata": {},
   "outputs": [],
   "source": [
    "def preorder(root):\n",
    "    if not root:\n",
    "        return \n",
    "    print(root.value)\n",
    "    preorder(root.left)\n",
    "    preorder(root.right)"
   ]
  },
  {
   "cell_type": "markdown",
   "id": "bf60adaa",
   "metadata": {},
   "source": [
    "#### 层次遍历"
   ]
  },
  {
   "cell_type": "code",
   "execution_count": null,
   "id": "6d936c02",
   "metadata": {},
   "outputs": [],
   "source": [
    "def levelorder(root):\n",
    "    deque = []\n",
    "    deque.append(root)\n",
    "    while len(deque) != 0:\n",
    "        node = deque.pop(0)\n",
    "        print(node.value)\n",
    "        if node.left:\n",
    "            deque.append(node.left)\n",
    "        if node.right:\n",
    "            deque.append(node.right)\n",
    "    "
   ]
  },
  {
   "cell_type": "markdown",
   "id": "a67d52f3",
   "metadata": {},
   "source": [
    "#### 非递归中序遍历"
   ]
  },
  {
   "cell_type": "code",
   "execution_count": 3,
   "id": "99bfad9c",
   "metadata": {},
   "outputs": [],
   "source": [
    "def inorder(root):\n",
    "    deque = []\n",
    "    p = root\n",
    "    while p or len(deque) != 0:\n",
    "        while p:\n",
    "            deque.append(p)\n",
    "            p = p.left\n",
    "        p = deque.pop()\n",
    "        print(p.value)\n",
    "        p = p.right"
   ]
  },
  {
   "cell_type": "markdown",
   "id": "60231dfa",
   "metadata": {},
   "source": [
    "### 各种树"
   ]
  },
  {
   "cell_type": "markdown",
   "id": "15ef30d0",
   "metadata": {},
   "source": [
    "#### 二叉平衡树"
   ]
  },
  {
   "cell_type": "code",
   "execution_count": 8,
   "id": "24a21a1e",
   "metadata": {},
   "outputs": [],
   "source": [
    "# 如何判断一棵树是否是二叉平衡树\n",
    "def isBalancedTree(root):\n",
    "    Flag = True\n",
    "    def DFS(root):\n",
    "        if not root:\n",
    "            return 0\n",
    "        left = DFS(root.left)\n",
    "        right = DFS(root.right)\n",
    "        if abs(left-right) > 1:\n",
    "            flag = False\n",
    "        return max(left,right)+1\n",
    "    _ = DFS(root)\n",
    "    return Flag"
   ]
  },
  {
   "cell_type": "markdown",
   "id": "79c439b5",
   "metadata": {},
   "source": [
    "#### 二叉搜索树"
   ]
  },
  {
   "cell_type": "code",
   "execution_count": 9,
   "id": "c7321edc",
   "metadata": {},
   "outputs": [],
   "source": [
    "# 判断一棵树是否是二叉搜索树\n",
    "def isBinarySearchTree(root,lower,upper):\n",
    "    if not root:\n",
    "        return True\n",
    "    if root.value <= lower or root.value >= upper:\n",
    "        return False\n",
    "    l = isBinarySearchTreerchTree(root.left,lower,root.value)\n",
    "    r = isBinarySearchTree(root.right,root.value,upper)\n",
    "    if l and r:\n",
    "        return True\n",
    "    else:\n",
    "        return False\n",
    "\n",
    "if __name__==\"__main__\":\n",
    "    isBinarySearchTree(root,float(\"-inf\"),float(\"inf\"))"
   ]
  },
  {
   "cell_type": "markdown",
   "id": "bbf318ea",
   "metadata": {},
   "source": [
    "### 构建二叉树"
   ]
  },
  {
   "cell_type": "markdown",
   "id": "eef30501",
   "metadata": {},
   "source": [
    "#### 根据前序和中序构建一棵二叉树"
   ]
  },
  {
   "cell_type": "code",
   "execution_count": 7,
   "id": "008c0bce",
   "metadata": {},
   "outputs": [],
   "source": [
    "def buildBinaryTree(pre,center):\n",
    "    if len(pre) == 0:\n",
    "        return None\n",
    "    temp = pre[0]\n",
    "    index = -1\n",
    "    for i in range(len(center)):\n",
    "        if center[i] == temp:\n",
    "            index = i\n",
    "    root = Node(temp)\n",
    "    root.left = buildBinaryTree(pre[1:index+1],center[:index])\n",
    "    root.right = buildBinaryTree(pre[index+1:],center[index+1:])\n",
    "    return root"
   ]
  },
  {
   "cell_type": "markdown",
   "id": "acd426cc",
   "metadata": {},
   "source": [
    "## 应用"
   ]
  },
  {
   "cell_type": "markdown",
   "id": "0e08021d",
   "metadata": {},
   "source": [
    "### 对称二叉树"
   ]
  },
  {
   "cell_type": "code",
   "execution_count": null,
   "id": "23f46d36",
   "metadata": {},
   "outputs": [],
   "source": [
    "# Definition for a binary tree node.\n",
    "# class TreeNode:\n",
    "#     def __init__(self, val=0, left=None, right=None):\n",
    "#         self.val = val\n",
    "#         self.left = left\n",
    "#         self.right = right\n",
    "class Solution:\n",
    "    def isSymmetric(self, root: TreeNode) -> bool:\n",
    "        if not root:\n",
    "            return True\n",
    "        def sameTree(p,q):\n",
    "            if not p and not q:\n",
    "                return True\n",
    "            if (not p and q) or (p and not q):\n",
    "                return False\n",
    "            if p and q and p.val != q.val:\n",
    "                return False\n",
    "            return sameTree(p.left,q.right) and sameTree(p.right,q.left)\n",
    "        return sameTree(root.left,root.right)"
   ]
  },
  {
   "cell_type": "markdown",
   "id": "29e50634",
   "metadata": {},
   "source": [
    "### 最近的公共祖先"
   ]
  },
  {
   "cell_type": "code",
   "execution_count": 10,
   "id": "96fbc4b1",
   "metadata": {},
   "outputs": [],
   "source": [
    "# class TreeNode:\n",
    "#     def __init__(self, x):\n",
    "#         self.val = x\n",
    "#         self.left = None\n",
    "#         self.right = None\n",
    "\n",
    "#\n",
    "# \n",
    "# @param root TreeNode类 \n",
    "# @param o1 int整型 \n",
    "# @param o2 int整型 \n",
    "# @return int整型\n",
    "#\n",
    "class Solution:\n",
    "    def lowestCommonAncestor(self , root , o1 , o2 ):\n",
    "        # write code here\n",
    "        if not root:\n",
    "            return None\n",
    "        if root.val == o1 or root.val == o2:\n",
    "            return root.val\n",
    "        left = self.lowestCommonAncestor(root.left,o1,o2)\n",
    "        right = self.lowestCommonAncestor(root.right,o1,o2)\n",
    "        if not left:\n",
    "            return right.val\n",
    "        if not right:\n",
    "            return left.val\n",
    "        return root.val"
   ]
  },
  {
   "cell_type": "markdown",
   "id": "a32fbfe7",
   "metadata": {},
   "source": [
    "### 路径总和"
   ]
  },
  {
   "cell_type": "code",
   "execution_count": 3,
   "id": "f9d60f31",
   "metadata": {},
   "outputs": [],
   "source": [
    "# 给你二叉树的根节点 root 和一个表示目标和的整数 targetSum ，判断该树中是否存在 根节点到叶子节点 的路径，这条路径上所有节点值相加等于目标和\n",
    "class TreeNode:\n",
    "    def __init__(self, val=0, left=None, right=None):\n",
    "        self.val = val\n",
    "        self.left = left\n",
    "        self.right = right\n",
    "def hasPathSum(self, root: TreeNode, targetSum: int) -> bool:\n",
    "    if not root:\n",
    "        return False\n",
    "    deque = []\n",
    "    result = [root.val]\n",
    "    deque.append(root)\n",
    "    while len(deque)!=0:\n",
    "        node = deque.pop(0)\n",
    "        temp = result.pop(0)\n",
    "        if not node.left and not node.right and temp==targetSum:\n",
    "            return True\n",
    "        if node.left:\n",
    "            deque.append(node.left)\n",
    "            result.append(temp+node.left.val)\n",
    "        if node.right:\n",
    "            deque.append(node.right)\n",
    "            result.append(temp+node.right.val)\n",
    "    return False"
   ]
  },
  {
   "cell_type": "code",
   "execution_count": null,
   "id": "2e9bc14f",
   "metadata": {},
   "outputs": [],
   "source": [
    "# Definition for a binary tree node.\n",
    "# class TreeNode:\n",
    "#     def __init__(self, val=0, left=None, right=None):\n",
    "#         self.val = val\n",
    "#         self.left = left\n",
    "#         self.right = right\n",
    "class Solution:\n",
    "    def hasPathSum(self, root: TreeNode, targetSum: int) -> bool:\n",
    "        # 深度遍历\n",
    "        if not root:\n",
    "            return False\n",
    "        if not root.left and not root.right:\n",
    "            return targetSum == root.val\n",
    "        left = self.hasPathSum(root.left,targetSum-root.val)\n",
    "        right = self.hasPathSum(root.right,targetSum-root.val)\n",
    "        return left or right"
   ]
  },
  {
   "cell_type": "markdown",
   "id": "8c8f4503",
   "metadata": {},
   "source": [
    "### 最大路径和"
   ]
  },
  {
   "cell_type": "code",
   "execution_count": 2,
   "id": "60189fe6",
   "metadata": {},
   "outputs": [],
   "source": [
    "# Definition for a binary tree node.\n",
    "class TreeNode:\n",
    "    def __init__(self, val=0, left=None, right=None):\n",
    "        self.val = val\n",
    "        self.left = left\n",
    "        self.right = right\n",
    "class Solution:\n",
    "    def maxPathSum(self, root: TreeNode) -> int:\n",
    "        self.maxSum = float(\"-inf\")\n",
    "        def dfs(root):\n",
    "            if not root:\n",
    "                return 0\n",
    "            left = dfs(root.left)\n",
    "            right = dfs(root.right)\n",
    "            self.maxSum = max(self.maxSum,left+right+root.val)\n",
    "            return max(0,max(left,right)+root.val)\n",
    "        dfs(root)\n",
    "        return self.maxSum"
   ]
  },
  {
   "cell_type": "code",
   "execution_count": null,
   "id": "b095221f",
   "metadata": {},
   "outputs": [],
   "source": [
    "# 包含输入输出的（虾皮笔试）\n",
    "\n",
    "class Node:\n",
    "    def __init__(self,val):\n",
    "        self.val = val\n",
    "        self.left = None\n",
    "        self.right = None\n",
    "\n",
    "class Solution:\n",
    "    def __init__(self):\n",
    "        self.maxsum = float(\"-inf\")\n",
    "\n",
    "    def maxPath(self,root):\n",
    "        if not root:\n",
    "            return 0\n",
    "        l = self.maxPath(root.left)\n",
    "        r = self.maxPath(root.right)\n",
    "        temp = max(0,l+r+root.val)\n",
    "        self.maxsum = max(self.maxsum,temp)\n",
    "        return max(0,max(l,r)+root.val)\n",
    "\n",
    "\n",
    "nums = input()\n",
    "# nums = nums.replace('[','').replace(']','') # int\n",
    "nums = nums.strip('[')\n",
    "nums = nums.strip(']')\n",
    "if nums == \"\":\n",
    "    print(0)\n",
    "nums = nums.split(',')\n",
    "\n",
    "# 构建一棵树\n",
    "def buildTree(nums):\n",
    "    deque = []\n",
    "    temp = nums.pop(0)\n",
    "    root = Node(int(temp)) # 吐了，就这个错误没有找到;哭了\n",
    "    deque.append(root)\n",
    "    while len(nums)!= 0:\n",
    "        temp_node = deque.pop(0)\n",
    "        left_temp = nums.pop(0)\n",
    "        right_temp = nums.pop(0)\n",
    "        if left_temp != \"null\":\n",
    "            temp_node.left = Node(int(left_temp))\n",
    "            deque.append(temp_node.left)\n",
    "        if right_temp != \"null\":\n",
    "            temp_node.right = Node(int(right_temp))\n",
    "            deque.append(temp_node.right)\n",
    "    return root\n",
    "\n",
    "root = buildTree(nums)\n",
    "def dfs(root):\n",
    "    if not root:\n",
    "        return\n",
    "    print(type(root.val))\n",
    "    dfs(root.left)\n",
    "    dfs(root.right)\n",
    "\n",
    "dfs(root)\n",
    "\n",
    "test = Solution()\n",
    "\n",
    "t = test.maxPath(root)\n",
    "print(t)\n",
    "\n",
    "print(test.maxsum)\n",
    "\n",
    "# [-10,9,20,null,null,15,7]"
   ]
  }
 ],
 "metadata": {
  "kernelspec": {
   "display_name": "Python 3",
   "language": "python",
   "name": "python3"
  },
  "language_info": {
   "codemirror_mode": {
    "name": "ipython",
    "version": 3
   },
   "file_extension": ".py",
   "mimetype": "text/x-python",
   "name": "python",
   "nbconvert_exporter": "python",
   "pygments_lexer": "ipython3",
   "version": "3.8.8"
  },
  "toc": {
   "base_numbering": 1,
   "nav_menu": {},
   "number_sections": true,
   "sideBar": true,
   "skip_h1_title": false,
   "title_cell": "Table of Contents",
   "title_sidebar": "Contents",
   "toc_cell": false,
   "toc_position": {},
   "toc_section_display": true,
   "toc_window_display": true
  }
 },
 "nbformat": 4,
 "nbformat_minor": 5
}
